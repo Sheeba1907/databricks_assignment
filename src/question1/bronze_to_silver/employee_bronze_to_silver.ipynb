{
 "cells": [
  {
   "cell_type": "code",
   "execution_count": 0,
   "metadata": {
    "application/vnd.databricks.v1+cell": {
     "cellMetadata": {
      "byteLimit": 2048000,
      "rowLimit": 10000
     },
     "inputWidgets": {},
     "nuid": "501826d4-2a73-4254-bb84-cee5372d0f6a",
     "showTitle": false,
     "tableResultSettingsMap": {},
     "title": ""
    }
   },
   "outputs": [],
   "source": [
    "%run \"/Workspace/Users/sheeba.banu@diggibyte.com/databricks_assignment/src/question1/source_to_bronze/utils\""
   ]
  },
  {
   "cell_type": "code",
   "execution_count": 0,
   "metadata": {
    "application/vnd.databricks.v1+cell": {
     "cellMetadata": {
      "byteLimit": 2048000,
      "rowLimit": 10000
     },
     "inputWidgets": {},
     "nuid": "7c54ac17-9193-4219-99d4-d38bdc7e942e",
     "showTitle": false,
     "tableResultSettingsMap": {},
     "title": ""
    }
   },
   "outputs": [],
   "source": [
    "from pyspark.sql.types import StructType, StructField, IntegerType, StringType, DoubleType\n",
    "\n",
    "# Define custom schema for employee dataset\n",
    "employee_schema = StructType([\n",
    "    StructField(\"EmployeeID\", IntegerType(), True),\n",
    "    StructField(\"Name\", StringType(), True),\n",
    "    StructField(\"DepartmentID\", StringType(), True),\n",
    "    StructField(\"CountryID\", StringType(), True),\n",
    "    StructField(\"Age\", IntegerType(), True),\n",
    "    StructField(\"Salary\", DoubleType(), True)\n",
    "])\n",
    "\n",
    "# Read bronze CSVs with schema\n",
    "employee_df = spark.read.option(\"header\", True).schema(employee_schema).csv(\"/Volumes/assignment/default/write_path/employee\")\n",
    "\n",
    "# Apply transformations\n",
    "employee_df = convert_camel_to_snake_udf(employee_df)\n",
    "employee_df = add_load_date(employee_df)\n",
    "\n",
    "# Write as Delta table\n",
    "db_name = \"Employee_info\"\n",
    "table_name = \"dim_employee\"\n",
    "#path = f\"/Volumes/assignment/default/write_path/silver/{db_name}/{table_name}\"\n",
    "# Create the schema if it does not exist\n",
    "spark.sql(f\"CREATE SCHEMA IF NOT EXISTS {db_name}\")\n",
    "\n",
    "write_delta(employee_df, db_name, table_name)\n",
    "spark.sql(\"select * from Employee_info.dim_employee\")\n"
   ]
  },
  {
   "cell_type": "code",
   "execution_count": 0,
   "metadata": {
    "application/vnd.databricks.v1+cell": {
     "cellMetadata": {
      "byteLimit": 2048000,
      "implicitDf": true,
      "rowLimit": 10000
     },
     "inputWidgets": {},
     "nuid": "286dee2a-951c-4712-8672-efd63a8a48c9",
     "showTitle": false,
     "tableResultSettingsMap": {},
     "title": ""
    }
   },
   "outputs": [],
   "source": [
    "%sql\n",
    "SELECT * FROM Employee_info.dim_employee"
   ]
  }
 ],
 "metadata": {
  "application/vnd.databricks.v1+notebook": {
   "computePreferences": null,
   "dashboards": [],
   "environmentMetadata": {
    "base_environment": "",
    "environment_version": "4"
   },
   "inputWidgetPreferences": null,
   "language": "python",
   "notebookMetadata": {
    "mostRecentlyExecutedCommandWithImplicitDF": {
     "commandId": 7404440052861771,
     "dataframes": [
      "_sqldf"
     ]
    },
    "pythonIndentUnit": 4
   },
   "notebookName": "employee_bronze_to_silver",
   "widgets": {}
  },
  "language_info": {
   "name": "python"
  }
 },
 "nbformat": 4,
 "nbformat_minor": 0
}
