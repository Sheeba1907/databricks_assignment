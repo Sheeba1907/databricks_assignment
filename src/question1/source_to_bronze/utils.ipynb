{
 "cells": [
  {
   "cell_type": "code",
   "execution_count": 0,
   "metadata": {
    "application/vnd.databricks.v1+cell": {
     "cellMetadata": {
      "byteLimit": 2048000,
      "rowLimit": 10000
     },
     "inputWidgets": {},
     "nuid": "0fd1f31c-004f-44e5-842d-dccba954fd8b",
     "showTitle": false,
     "tableResultSettingsMap": {},
     "title": ""
    }
   },
   "outputs": [],
   "source": [
    "from pyspark.sql import functions as F\n",
    "from pyspark.sql.types import *\n",
    "\n",
    "def read_csv_file(spark, path):\n",
    "    \"\"\"Reads a CSV file into a Spark DataFrame\"\"\"\n",
    "    return (\n",
    "        spark.read\n",
    "            .option(\"header\", True)\n",
    "            .option(\"inferSchema\", True)\n",
    "            .csv(path)\n",
    "    )\n",
    "\n",
    "def write_df_to_csv(df, output_path):\n",
    "    \"\"\"Writes a DataFrame to a DBFS path as CSV\"\"\"\n",
    "    (\n",
    "        df.repartition(1)\n",
    "          .write\n",
    "          .mode(\"overwrite\")\n",
    "          .option(\"header\", True)\n",
    "          .csv(output_path)\n",
    "    )\n",
    "    print(f\"✅ CSV written to {output_path}\")\n",
    "\n",
    "def camel_to_snake(name):\n",
    "    \"\"\"Convert CamelCase column name to snake_case\"\"\"\n",
    "    import re\n",
    "    s1 = re.sub('(.)([A-Z][a-z]+)', r'\\1_\\2', name)\n",
    "    return re.sub('([a-z0-9])([A-Z])', r'\\1_\\2', s1).lower()\n",
    "\n",
    "def convert_camel_to_snake_udf(df):\n",
    "    \"\"\"Renames all columns from CamelCase to snake_case\"\"\"\n",
    "    for col in df.columns:\n",
    "        df = df.withColumnRenamed(col, camel_to_snake(col))\n",
    "    return df\n",
    "\n",
    "def add_load_date(df, column_name=\"load_date\"):\n",
    "    \"\"\"Adds load_date column with current date\"\"\"\n",
    "    return df.withColumn(column_name, F.current_date())\n",
    "\n",
    "# Writing DataFrame to Delta\n",
    "def write_delta(df, db_name, table_name, mode=\"overwrite\"):\n",
    "    \"\"\"Writes a DataFrame as Delta Table\"\"\"\n",
    "    (\n",
    "        df.write\n",
    "          .format(\"delta\")\n",
    "          .mode(mode)\n",
    "          .saveAsTable(f\"{db_name}.{table_name}\")\n",
    "    )\n",
    "    \n",
    "    print(f\"✅ Delta table written to {db_name}.{table_name}\")"
   ]
  }
 ],
 "metadata": {
  "application/vnd.databricks.v1+notebook": {
   "computePreferences": null,
   "dashboards": [],
   "environmentMetadata": {
    "base_environment": "",
    "environment_version": "4"
   },
   "inputWidgetPreferences": null,
   "language": "python",
   "notebookMetadata": {
    "pythonIndentUnit": 4
   },
   "notebookName": "utils",
   "widgets": {}
  },
  "language_info": {
   "name": "python"
  }
 },
 "nbformat": 4,
 "nbformat_minor": 0
}
