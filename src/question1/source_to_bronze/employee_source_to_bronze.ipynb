{
 "cells": [
  {
   "cell_type": "code",
   "execution_count": 0,
   "metadata": {
    "application/vnd.databricks.v1+cell": {
     "cellMetadata": {
      "byteLimit": 2048000,
      "rowLimit": 10000
     },
     "inputWidgets": {},
     "nuid": "806eb994-9f38-470f-8ead-ef46cc280ad7",
     "showTitle": false,
     "tableResultSettingsMap": {},
     "title": ""
    }
   },
   "outputs": [],
   "source": [
    "%run \"/Workspace/Users/sheeba.banu@diggibyte.com/databricks_assignment/src/question1/source_to_bronze/utils\""
   ]
  },
  {
   "cell_type": "code",
   "execution_count": 0,
   "metadata": {
    "application/vnd.databricks.v1+cell": {
     "cellMetadata": {
      "byteLimit": 2048000,
      "rowLimit": 10000
     },
     "inputWidgets": {},
     "nuid": "2a387b9c-dfaf-44a1-82de-b04e12dce8f7",
     "showTitle": false,
     "tableResultSettingsMap": {},
     "title": ""
    }
   },
   "outputs": [],
   "source": [
    "employee_path = \"/Volumes/assignment/datasets/data/Employee-Q1.csv\"\n",
    "department_path = \"/Volumes/assignment/datasets/data/Department-Q1.csv\"\n",
    "country_path = \"/Volumes/assignment/datasets/data/Country-Q1.csv\"\n",
    "\n",
    "# Read source data\n",
    "employee_df = read_csv_file(spark, employee_path)\n",
    "department_df = read_csv_file(spark, department_path)\n",
    "country_df = read_csv_file(spark, country_path)\n",
    "\n",
    "# Write to DBFS Bronze Layer (as CSV)\n",
    "write_df_to_csv(employee_df, \"/Volumes/assignment/default/write_path/employee\")\n",
    "write_df_to_csv(department_df, \"/Volumes/assignment/default/write_path/department\")\n",
    "write_df_to_csv(country_df, \"/Volumes/assignment/default/write_path/country\")\n",
    "\n",
    "display(employee_df)\n",
    "display(department_df)\n",
    "display(country_df)"
   ]
  }
 ],
 "metadata": {
  "application/vnd.databricks.v1+notebook": {
   "computePreferences": null,
   "dashboards": [],
   "environmentMetadata": {
    "base_environment": "",
    "environment_version": "4"
   },
   "inputWidgetPreferences": null,
   "language": "python",
   "notebookMetadata": {
    "pythonIndentUnit": 4
   },
   "notebookName": "employee_source_to_bronze",
   "widgets": {}
  },
  "language_info": {
   "name": "python"
  }
 },
 "nbformat": 4,
 "nbformat_minor": 0
}
